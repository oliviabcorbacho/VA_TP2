{
 "cells": [
  {
   "cell_type": "markdown",
   "metadata": {},
   "source": [
    "<div style=\"text-align: center;\">\n",
    "    <img src=\"https://rubikcloud.ai/wp-content/uploads/2024/03/logo-bottom.png\" alt=\"Image\" width=\"200\"/>\n",
    "</div>\n",
    "\n",
    "\n",
    "<p align=\"center\">\n",
    "  <strong style=\"font-size: 44px;\">Trabajo Practico 2: Reconstruccion 3D</strong><br>\n",
    "  <em style=\"font-size: 16px;\">Codigo de Bruno Castagnino Rossi, Olivia Browne Corbacho y Agustin Federico Manzano - Parte 1</em>\n",
    "</p>"
   ]
  },
  {
   "cell_type": "code",
   "execution_count": 1,
   "metadata": {},
   "outputs": [],
   "source": [
    "import pickle as pkl\n",
    "import numpy as np\n",
    "import cv2 as cv\n",
    "from matplotlib import pyplot as plt\n",
    "import os \n",
    "import sys"
   ]
  },
  {
   "cell_type": "code",
   "execution_count": 2,
   "metadata": {},
   "outputs": [],
   "source": [
    "from code import initiation\n",
    "\n",
    "path1 = 'data/captures/left_3.jpg'\n",
    "path2 = 'data/captures/left_3.jpg'\n",
    "\n",
    "pklpath = 'data/stereo_maps.pkl'\n",
    "\n",
    "imgL, imgR, mat_dict = initiation(path1, path2, pklpath)"
   ]
  },
  {
   "cell_type": "code",
   "execution_count": 3,
   "metadata": {},
   "outputs": [
    {
     "name": "stdout",
     "output_type": "stream",
     "text": [
      "[[ 1.00000000e+00  0.00000000e+00  0.00000000e+00 -9.70262848e+02]\n",
      " [ 0.00000000e+00  1.00000000e+00  0.00000000e+00 -5.39484238e+02]\n",
      " [ 0.00000000e+00  0.00000000e+00  0.00000000e+00  6.00600906e+02]\n",
      " [ 0.00000000e+00  0.00000000e+00  1.66848275e-02 -0.00000000e+00]]\n"
     ]
    }
   ],
   "source": [
    "print(mat_dict['Q'])"
   ]
  },
  {
   "cell_type": "code",
   "execution_count": 4,
   "metadata": {},
   "outputs": [
    {
     "data": {
      "text/plain": [
       "(array([[[ 41,  40,  26],\n",
       "         [ 41,  39,  25],\n",
       "         [ 40,  38,  26],\n",
       "         ...,\n",
       "         [214, 201, 185],\n",
       "         [215, 201, 185],\n",
       "         [215, 201, 185]],\n",
       " \n",
       "        [[ 43,  40,  26],\n",
       "         [ 42,  39,  25],\n",
       "         [ 41,  38,  25],\n",
       "         ...,\n",
       "         [216, 201, 185],\n",
       "         [216, 201, 185],\n",
       "         [216, 201, 185]],\n",
       " \n",
       "        [[ 43,  40,  26],\n",
       "         [ 42,  39,  26],\n",
       "         [ 42,  38,  26],\n",
       "         ...,\n",
       "         [216, 201, 185],\n",
       "         [216, 201, 185],\n",
       "         [216, 201, 185]],\n",
       " \n",
       "        ...,\n",
       " \n",
       "        [[145, 159, 158],\n",
       "         [145, 158, 158],\n",
       "         [145, 157, 157],\n",
       "         ...,\n",
       "         [ 90,  59,  44],\n",
       "         [ 90,  59,  44],\n",
       "         [ 89,  58,  43]],\n",
       " \n",
       "        [[145, 159, 157],\n",
       "         [145, 158, 157],\n",
       "         [145, 158, 156],\n",
       "         ...,\n",
       "         [ 90,  60,  45],\n",
       "         [ 90,  59,  44],\n",
       "         [ 90,  59,  44]],\n",
       " \n",
       "        [[146, 160, 156],\n",
       "         [146, 159, 156],\n",
       "         [145, 160, 156],\n",
       "         ...,\n",
       "         [ 87,  58,  42],\n",
       "         [ 88,  57,  42],\n",
       "         [ 88,  57,  42]]], dtype=uint8),\n",
       " array([[[ 39,  35,  30],\n",
       "         [ 39,  36,  31],\n",
       "         [ 39,  36,  31],\n",
       "         ...,\n",
       "         [215, 201, 185],\n",
       "         [214, 201, 185],\n",
       "         [214, 201, 185]],\n",
       " \n",
       "        [[ 38,  34,  29],\n",
       "         [ 38,  35,  30],\n",
       "         [ 38,  35,  30],\n",
       "         ...,\n",
       "         [213, 202, 185],\n",
       "         [214, 201, 185],\n",
       "         [214, 201, 185]],\n",
       " \n",
       "        [[ 38,  34,  29],\n",
       "         [ 37,  34,  29],\n",
       "         [ 37,  34,  29],\n",
       "         ...,\n",
       "         [211, 202, 185],\n",
       "         [213, 201, 185],\n",
       "         [214, 201, 185]],\n",
       " \n",
       "        ...,\n",
       " \n",
       "        [[146, 159, 158],\n",
       "         [145, 159, 158],\n",
       "         [145, 159, 158],\n",
       "         ...,\n",
       "         [121,  65,  46],\n",
       "         [122,  67,  47],\n",
       "         [127,  72,  50]],\n",
       " \n",
       "        [[146, 160, 159],\n",
       "         [145, 160, 159],\n",
       "         [145, 160, 159],\n",
       "         ...,\n",
       "         [120,  66,  45],\n",
       "         [124,  69,  47],\n",
       "         [126,  72,  48]],\n",
       " \n",
       "        [[147, 161, 160],\n",
       "         [145, 161, 160],\n",
       "         [144, 160, 159],\n",
       "         ...,\n",
       "         [119,  66,  43],\n",
       "         [124,  70,  46],\n",
       "         [126,  73,  47]]], dtype=uint8))"
      ]
     },
     "execution_count": 4,
     "metadata": {},
     "output_type": "execute_result"
    }
   ],
   "source": [
    "from code import show_rectified_images\n",
    "show_rectified_images(imgL, imgR, mat_dict, plot_images=True)"
   ]
  },
  {
   "cell_type": "code",
   "execution_count": 5,
   "metadata": {},
   "outputs": [
    {
     "name": "stdout",
     "output_type": "stream",
     "text": [
      "Rectified images saved to data/rectified_images\n",
      "Rectified images 0 saved\n",
      "Rectified images saved to data/rectified_images\n",
      "Rectified images 1 saved\n",
      "Rectified images saved to data/rectified_images\n",
      "Rectified images 2 saved\n",
      "Rectified images saved to data/rectified_images\n",
      "Rectified images 3 saved\n",
      "Rectified images saved to data/rectified_images\n",
      "Rectified images 4 saved\n",
      "Rectified images saved to data/rectified_images\n",
      "Rectified images 5 saved\n",
      "All images saved\n"
     ]
    }
   ],
   "source": [
    "from code import save_imgs\n",
    "\n",
    "save_imgs(mat_dict)\n",
    "    "
   ]
  },
  {
   "cell_type": "code",
   "execution_count": 6,
   "metadata": {},
   "outputs": [],
   "source": [
    "#utilizamos stereodemo para ver las imagenes rectificadas\n"
   ]
  }
 ],
 "metadata": {
  "kernelspec": {
   "display_name": "base",
   "language": "python",
   "name": "python3"
  },
  "language_info": {
   "codemirror_mode": {
    "name": "ipython",
    "version": 3
   },
   "file_extension": ".py",
   "mimetype": "text/x-python",
   "name": "python",
   "nbconvert_exporter": "python",
   "pygments_lexer": "ipython3",
   "version": "3.11.4"
  }
 },
 "nbformat": 4,
 "nbformat_minor": 2
}
