{
 "cells": [
  {
   "cell_type": "markdown",
   "metadata": {},
   "source": [
    "<div style=\"text-align: center;\">\n",
    "    <img src=\"https://rubikcloud.ai/wp-content/uploads/2024/03/logo-bottom.png\" alt=\"Image\" width=\"200\"/>\n",
    "</div>\n",
    "\n",
    "\n",
    "<p align=\"center\">\n",
    "  <strong style=\"font-size: 44px;\">Trabajo Practico 2: Reconstruccion 3D</strong><br>\n",
    "  <em style=\"font-size: 16px;\">Codigo de Bruno Castagnino Rossi, Olivia Browne Corbacho y Agustin Federico Manzano - Parte 1</em>\n",
    "</p>"
   ]
  },
  {
   "cell_type": "code",
   "execution_count": 1,
   "metadata": {},
   "outputs": [],
   "source": [
    "import pickle as pkl\n",
    "import numpy as np\n",
    "import cv2 as cv\n",
    "from matplotlib import pyplot as plt\n",
    "import os \n",
    "import sys\n",
    "import open3d as o3d\n",
    "import calib"
   ]
  },
  {
   "cell_type": "code",
   "execution_count": 2,
   "metadata": {},
   "outputs": [],
   "source": [
    "from code import initiation\n",
    "\n",
    "path1 = 'data/captures/left_3.jpg'\n",
    "path2 = 'data/captures/left_3.jpg'\n",
    "\n",
    "pklpath = 'data/stereo_maps.pkl'\n",
    "\n",
    "imgL, imgR, mat_dict = initiation(path1, path2, pklpath)"
   ]
  },
  {
   "cell_type": "code",
   "execution_count": 3,
   "metadata": {},
   "outputs": [
    {
     "name": "stdout",
     "output_type": "stream",
     "text": [
      "[[ 1.00000000e+00  0.00000000e+00  0.00000000e+00 -9.70262848e+02]\n",
      " [ 0.00000000e+00  1.00000000e+00  0.00000000e+00 -5.39484238e+02]\n",
      " [ 0.00000000e+00  0.00000000e+00  0.00000000e+00  6.00600906e+02]\n",
      " [ 0.00000000e+00  0.00000000e+00  1.66848275e-02 -0.00000000e+00]]\n",
      "dict_keys(['left_map_x', 'left_map_y', 'right_map_x', 'right_map_y', 'R1', 'R2', 'P1', 'P2', 'Q', 'validRoi1', 'validRoi2'])\n",
      "dict_keys(['left_K', 'left_dist', 'right_K', 'right_dist', 'R', 'T', 'E', 'F', 'image_size'])\n",
      "[[601.92838937   0.         959.61909931]\n",
      " [  0.         602.57590677 547.75865163]\n",
      " [  0.           0.           1.        ]]\n",
      "[[ 1.81316452e-03 -2.16045131e-02 -6.59116213e-04  9.60877050e-05\n",
      "   3.24259481e-03]]\n"
     ]
    }
   ],
   "source": [
    "from code import open_pkl\n",
    "\n",
    "mat_dict, stereo_calib = open_pkl('data/stereo_maps.pkl', 'data/stereo_calibration.pkl')\n",
    "\n",
    "print(mat_dict['Q'])\n",
    "print(mat_dict.keys())\n",
    "\n",
    "print(stereo_calib.keys())\n",
    "print(stereo_calib['left_K'])\n",
    "print(stereo_calib['left_dist'])\n"
   ]
  },
  {
   "cell_type": "code",
   "execution_count": 4,
   "metadata": {},
   "outputs": [],
   "source": [
    "from code import show_rectified_images\n",
    "show_rectified_images(imgL, imgR, mat_dict, plot_images=True)"
   ]
  },
  {
   "cell_type": "code",
   "execution_count": 5,
   "metadata": {},
   "outputs": [
    {
     "name": "stdout",
     "output_type": "stream",
     "text": [
      "Rectified images saved to data/rectified_images\n",
      "Rectified images 0 saved\n",
      "Rectified images saved to data/rectified_images\n",
      "Rectified images 1 saved\n",
      "Rectified images saved to data/rectified_images\n",
      "Rectified images 2 saved\n",
      "Rectified images saved to data/rectified_images\n",
      "Rectified images 3 saved\n",
      "Rectified images saved to data/rectified_images\n",
      "Rectified images 4 saved\n",
      "Rectified images saved to data/rectified_images\n",
      "Rectified images 5 saved\n",
      "All images saved\n"
     ]
    }
   ],
   "source": [
    "from code import save_imgs\n",
    "\n",
    "save_imgs(mat_dict)\n",
    "    "
   ]
  },
  {
   "cell_type": "code",
   "execution_count": 6,
   "metadata": {},
   "outputs": [],
   "source": [
    "#importamos el código de gaston para construir mapas de disparidad de cada par de imágenes rectificadas\n",
    "from disparity_example import *"
   ]
  },
  {
   "cell_type": "code",
   "execution_count": 7,
   "metadata": {},
   "outputs": [
    {
     "name": "stdout",
     "output_type": "stream",
     "text": [
      "Computing disparity...\n"
     ]
    },
    {
     "name": "stderr",
     "output_type": "stream",
     "text": [
      "/Users/brunocr/opt/anaconda3/envs/stereodemoenv/lib/python3.8/site-packages/onnxruntime/capi/onnxruntime_inference_collection.py:69: UserWarning: Specified provider 'CUDAExecutionProvider' is not in available provider names.Available providers: 'CoreMLExecutionProvider, AzureExecutionProvider, CPUExecutionProvider'\n",
      "  warnings.warn(\n"
     ]
    },
    {
     "name": "stdout",
     "output_type": "stream",
     "text": [
      "Computing disparity...\n",
      "Computing disparity...\n",
      "Computing disparity...\n",
      "Computing disparity...\n",
      "Computing disparity...\n"
     ]
    }
   ],
   "source": [
    "from code import compute_disparity\n",
    "\n",
    "calibration_path = \"/Users/brunocr/Desktop/UDESA/Visión Artificial/TP2_Reconstruccion3D/VA_TP2/calibration_tool/data/rectified_images/stereodemo_calibration.json\"\n",
    "compute_disparity(calibration_path)\n",
    "\n"
   ]
  },
  {
   "cell_type": "code",
   "execution_count": 8,
   "metadata": {},
   "outputs": [],
   "source": [
    "from code import *"
   ]
  },
  {
   "cell_type": "code",
   "execution_count": 9,
   "metadata": {},
   "outputs": [],
   "source": [
    "pcd_camara_tuples = pcd(mat_dict, stereo_calib)"
   ]
  },
  {
   "cell_type": "code",
   "execution_count": 10,
   "metadata": {},
   "outputs": [],
   "source": [
    "visualize(pcd_camara_tuples)"
   ]
  },
  {
   "cell_type": "code",
   "execution_count": 11,
   "metadata": {},
   "outputs": [],
   "source": [
    "# for i, (pcd_filtered, _) in enumerate(pcd_camara_tuples):\n",
    "#     save_pcd_to_ply(pcd_filtered, f\"filtered_output_{i}.ply\")\n"
   ]
  }
 ],
 "metadata": {
  "kernelspec": {
   "display_name": "stereodemoenv",
   "language": "python",
   "name": "python3"
  },
  "language_info": {
   "codemirror_mode": {
    "name": "ipython",
    "version": 3
   },
   "file_extension": ".py",
   "mimetype": "text/x-python",
   "name": "python",
   "nbconvert_exporter": "python",
   "pygments_lexer": "ipython3",
   "version": "3.8.20"
  }
 },
 "nbformat": 4,
 "nbformat_minor": 2
}
